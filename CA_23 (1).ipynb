{
  "nbformat": 4,
  "nbformat_minor": 0,
  "metadata": {
    "colab": {
      "provenance": []
    },
    "kernelspec": {
      "name": "python3",
      "display_name": "Python 3"
    },
    "language_info": {
      "name": "python"
    }
  },
  "cells": [
    {
      "cell_type": "code",
      "execution_count": 4,
      "metadata": {
        "colab": {
          "base_uri": "https://localhost:8080/"
        },
        "id": "THWW91UywiUI",
        "outputId": "faa14392-5c2f-4624-d30c-9813c55740e0"
      },
      "outputs": [
        {
          "output_type": "stream",
          "name": "stdout",
          "text": [
            "Applying a Pauli X gate to flip the state\n",
            "Applying Pauli Y gate to alter the phase and flip\n",
            "Applying Hadamard gate to create superposition\n"
          ]
        }
      ],
      "source": [
        "class QuantumGate():\n",
        "  def __init__(self, qubits):\n",
        "    self.qubits = qubits;\n",
        "\n",
        "  def apply(self, state):\n",
        "    print(\"Applying a generic quantum gate to the state\")\n",
        "\n",
        "class PauliX(QuantumGate):\n",
        "  def __init__(self):\n",
        "    super().__init__(1)\n",
        "\n",
        "  def apply(self, state):\n",
        "    print(\"Applying a Pauli X gate to flip the state\")\n",
        "\n",
        "class PauliY(QuantumGate):\n",
        "  def __init__(self):\n",
        "    super().__init__(1)\n",
        "\n",
        "  def apply(self, state):\n",
        "    print(\"Applying Pauli Y gate to alter the phase and flip\")\n",
        "\n",
        "class Hadamard(QuantumGate):\n",
        "  def __init__(self):\n",
        "    super().__init__(1)\n",
        "\n",
        "  def apply(self, state):\n",
        "    print(\"Applying Hadamard gate to create superposition\")\n",
        "\n",
        "gates = [PauliX(),PauliY(), Hadamard()]\n",
        "for gate in gates:\n",
        "  gate.apply('Quantum state')\n"
      ]
    }
  ]
}