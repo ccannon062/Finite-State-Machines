{
  "nbformat": 4,
  "nbformat_minor": 0,
  "metadata": {
    "colab": {
      "provenance": []
    },
    "kernelspec": {
      "name": "python3",
      "display_name": "Python 3"
    },
    "language_info": {
      "name": "python"
    }
  },
  "cells": [
    {
      "cell_type": "code",
      "source": [
        "class turnstileFSM:\n",
        "  def __init__(self):\n",
        "    self.state = 'Locked'\n",
        "\n",
        "  def insert_coin(self):\n",
        "    if self.state == 'Locked':\n",
        "      self.state = 'Unlocked'\n",
        "      print('Unlocked the turnstile.')\n",
        "    else:\n",
        "      print('Already unlocked.')\n",
        "\n",
        "  def push(self):\n",
        "    if self.state == 'Unlocked':\n",
        "      self.state = 'Locked'\n",
        "      print('Unlocked, now locking.')\n",
        "    elif self.state == 'Locked':\n",
        "      print('Locked.')\n",
        "\n",
        "  def run_tests(self_actions):\n",
        "    for action in actions:\n",
        "      if action == 'Coin':\n",
        "        self.insert_coin()\n",
        "      elif action == 'Push':\n",
        "        self.push()\n",
        "      else:\n",
        "        print('Invalid action')\n",
        "      print(f'Current state: {self.state}')\n",
        "\n",
        "turnstile = turnstileFSM()\n",
        "input_sequence = ['Coin', 'Push', 'Push', 'Coin', 'Push']"
      ],
      "metadata": {
        "id": "VKYMZBktsqFB"
      },
      "execution_count": 4,
      "outputs": []
    },
    {
      "cell_type": "code",
      "source": [],
      "metadata": {
        "id": "5sYrdrwOwY1O"
      },
      "execution_count": null,
      "outputs": []
    },
    {
      "cell_type": "code",
      "execution_count": null,
      "metadata": {
        "id": "2RdsX458sh-1"
      },
      "outputs": [],
      "source": []
    }
  ]
}